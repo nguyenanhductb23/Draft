{
 "cells": [
  {
   "cell_type": "code",
   "execution_count": 1,
   "id": "dd715ff6-b0f7-4340-b7b8-0e774590a490",
   "metadata": {},
   "outputs": [],
   "source": [
    "import numpy as np"
   ]
  },
  {
   "cell_type": "markdown",
   "id": "39423f09-ae9d-411d-9408-415c06e20a79",
   "metadata": {},
   "source": [
    "# DFT"
   ]
  },
  {
   "cell_type": "code",
   "execution_count": 2,
   "id": "c2b3ee99-5174-4c87-a974-51eecf415ab9",
   "metadata": {},
   "outputs": [
    {
     "name": "stdout",
     "output_type": "stream",
     "text": [
      "[10.+0.00000000e+00j -2.+2.00000000e+00j -2.-9.79717439e-16j\n",
      " -2.-2.00000000e+00j]\n"
     ]
    }
   ],
   "source": [
    "def dft(x):\n",
    "    n = x.shape[0]\n",
    "    n_range = np.arange(n)\n",
    "    k_range = n_range.reshape((n, 1))\n",
    "    e = np.exp(-2j * np.pi * k_range * n_range / n)\n",
    "    return np.dot(e, x)\n",
    "\n",
    "# Example usage\n",
    "x = np.array([1, 2, 3, 4])\n",
    "print(dft(x))"
   ]
  },
  {
   "cell_type": "code",
   "execution_count": 3,
   "id": "634bfb28-0715-40f5-862d-3d41d78510e3",
   "metadata": {},
   "outputs": [
    {
     "name": "stdout",
     "output_type": "stream",
     "text": [
      "[10.+0.j -2.+2.j -2.+0.j -2.-2.j]\n"
     ]
    }
   ],
   "source": [
    "print(np.fft.fft(x))"
   ]
  },
  {
   "cell_type": "markdown",
   "id": "734f2bb3-cbf2-41cc-8c2b-371836fcec99",
   "metadata": {},
   "source": [
    "# IDFT"
   ]
  },
  {
   "cell_type": "code",
   "execution_count": 6,
   "id": "2b74b73c-1765-48c6-bb51-94d33155c027",
   "metadata": {},
   "outputs": [
    {
     "name": "stdout",
     "output_type": "stream",
     "text": [
      "[(2.5+0j), (-0.5000000000000001-0.4999999999999999j), (-0.5+2.4492935982947064e-16j), (-0.49999999999999956+0.5000000000000002j)]\n"
     ]
    }
   ],
   "source": [
    "import math\n",
    "\n",
    "def idft(x):\n",
    "    N = len(x)\n",
    "    X = []\n",
    "    for k in range(N):\n",
    "        s = complex(0)\n",
    "        for n in range(N):\n",
    "            s += x[n] * np.exp(2j * math.pi * k * n / N)\n",
    "        X.append(s / N)\n",
    "    return X\n",
    "\n",
    "\n",
    "print(idft(x))"
   ]
  },
  {
   "cell_type": "code",
   "execution_count": 7,
   "id": "6df09b10-e330-4561-b2dd-dc9522f7f502",
   "metadata": {},
   "outputs": [
    {
     "name": "stdout",
     "output_type": "stream",
     "text": [
      "[ 2.5+0.j  -0.5-0.5j -0.5+0.j  -0.5+0.5j]\n"
     ]
    }
   ],
   "source": [
    "print(np.fft.ifft(x))"
   ]
  }
 ],
 "metadata": {
  "kernelspec": {
   "display_name": "Python 3 (ipykernel)",
   "language": "python",
   "name": "python3"
  },
  "language_info": {
   "codemirror_mode": {
    "name": "ipython",
    "version": 3
   },
   "file_extension": ".py",
   "mimetype": "text/x-python",
   "name": "python",
   "nbconvert_exporter": "python",
   "pygments_lexer": "ipython3",
   "version": "3.9.7"
  }
 },
 "nbformat": 4,
 "nbformat_minor": 5
}
