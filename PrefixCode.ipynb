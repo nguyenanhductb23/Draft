{
 "cells": [
  {
   "cell_type": "markdown",
   "id": "77272607-9268-482b-a226-206eef3058f1",
   "metadata": {
    "deletable": false,
    "editable": false,
    "nbgrader": {
     "cell_type": "markdown",
     "checksum": "f4dbc5314e2daa6a45da92886c1ab859",
     "grade": false,
     "grade_id": "cell-cfa15efda6210240",
     "locked": true,
     "schema_version": 3,
     "solution": false,
     "task": false
    },
    "tags": []
   },
   "source": [
    "# Implement Prefix coding/decoding"
   ]
  },
  {
   "cell_type": "code",
   "execution_count": 34,
   "id": "01a88aaf-6449-4673-b6d9-ab58402f992e",
   "metadata": {
    "deletable": false,
    "nbgrader": {
     "cell_type": "code",
     "checksum": "59169a2982ac54347b58cfe19c07effa",
     "grade": false,
     "grade_id": "cell-5bdff5565a9d4739",
     "locked": false,
     "schema_version": 3,
     "solution": true,
     "task": false
    },
    "tags": []
   },
   "outputs": [],
   "source": [
    "class BinaryTree:\n",
    "    def __init__(self, symbol=None):\n",
    "        # Initialize binary tree\n",
    "        self.initTree(symbol)\n",
    "        \n",
    "    def initTree(self, symbol=None):       \n",
    "        self.left = None\n",
    "        self.right = None\n",
    "        self.symbol = symbol\n",
    "    \n",
    "    def dumpTree(self, symbol, codeword):\n",
    "        # dump nodes in the tree. For example:\n",
    "        '''\n",
    "        (root)\n",
    "            (small)\n",
    "            (big)\n",
    "                (small)\n",
    "                (big) \n",
    "\n",
    "        (root)\n",
    "            (small)\n",
    "                (small)\n",
    "                (big)\n",
    "            (big)\n",
    "                (small)\n",
    "                (big)\n",
    "        '''\n",
    "        if len(codeword) == 1:\n",
    "            if codeword[0] == '1':\n",
    "                self.right = BinaryTree(symbol)\n",
    "            elif codeword[0] == '0':\n",
    "                self.left = BinaryTree(symbol)\n",
    "        else:            \n",
    "            if codeword[0] == '1':\n",
    "                if not self.right:\n",
    "                    self.right = BinaryTree()\n",
    "                self.right.dumpTree(symbol, codeword[1:])\n",
    "            elif codeword[0] == '0':\n",
    "                if not self.left:\n",
    "                    self.left = BinaryTree()\n",
    "                self.left.dumpTree(symbol, codeword[1:])\n",
    "        \n",
    "    def buildTree(self, codeBook):\n",
    "        \"\"\"Build a code book\n",
    "        Parameters:\n",
    "            - codeBook (list): a list containing symbol and its code. \n",
    "                E.g.: [{\"symbol\": \"a\", \"code\": \"011\"}, {\"symbol\": \"b\", \"code\": \"010\"}, {\"symbol\": \"c\", \"code\": \"110\"}, {\"symbol\": \"d\", \"code\": \"111\"}]\n",
    "        Return:\n",
    "            - An instance of BinaryTree that contains all symbol in listOfCode. If listOfCode is not a prefix code, then return None\n",
    "        \"\"\"\n",
    "        # YOUR CODE HERE\n",
    "        for item in codeBook:\n",
    "            for t in item[\"code\"]:\n",
    "                if t != '0' and t != '1':\n",
    "                    return None\n",
    "            for item2 in codeBook:\n",
    "                if item != item2 and (item[\"code\"].startswith(item2[\"code\"])\n",
    "                               or item2[\"code\"].startswith(item[\"code\"])):\n",
    "                    return None\n",
    "                \n",
    "        for item in codeBook:\n",
    "            self.dumpTree(item[\"symbol\"], item[\"code\"])\n",
    "        return self\n",
    "        \n",
    "    def decode(self, binaryString):\n",
    "        '''Decode binaryString into a sequence of source symbols. \n",
    "        Paramters:\n",
    "            - binaryString: the input binary string. \n",
    "        Return:\n",
    "            - None if the binary tree is not built. \n",
    "            - None if the input binaryString is not a binary string \n",
    "            - None if the input binaryString cannot decodable.\n",
    "            - Otherwise return a list of source symbols in the codebook\n",
    "        '''\n",
    "        if not self:\n",
    "            return None\n",
    "        tmp_node = self\n",
    "        solution = ''\n",
    "        for i in binaryString:\n",
    "            if tmp_node:\n",
    "                if i == '1':\n",
    "                    if not tmp_node.right:\n",
    "                        return None\n",
    "                    tmp_node = tmp_node.right\n",
    "                elif i == '0':\n",
    "                    if not tmp_node.left:\n",
    "                        return None\n",
    "                    tmp_node = tmp_node.left\n",
    "                else:\n",
    "                    return None\n",
    "                if tmp_node.symbol:\n",
    "                    solution += tmp_node.symbol\n",
    "                    tmp_node = self\n",
    "              \n",
    "        # If there are remaining bits, return None\n",
    "        if tmp_node != self:\n",
    "            return None\n",
    "                    \n",
    "        return solution\n",
    "        \n",
    "    "
   ]
  },
  {
   "cell_type": "code",
   "execution_count": 32,
   "id": "984d8608-7205-4262-b862-e7b053614b60",
   "metadata": {
    "deletable": false,
    "editable": false,
    "nbgrader": {
     "cell_type": "code",
     "checksum": "db08dae0368fb9e043b6df23bf39d46a",
     "grade": true,
     "grade_id": "cell-e7b7318a34455eb1",
     "locked": true,
     "points": 10,
     "schema_version": 3,
     "solution": false,
     "task": false
    },
    "tags": []
   },
   "outputs": [],
   "source": [
    "tree = BinaryTree()\n",
    "codebook = [{\"symbol\": \"a\", \"code\": \"01\"}, \n",
    "            {\"symbol\": \"b\", \"code\": \"10\"},\n",
    "            {\"symbol\": \"c\", \"code\": \"010\"}]\n",
    "ntree = tree.buildTree(codebook)\n"
   ]
  },
  {
   "cell_type": "code",
   "execution_count": 35,
   "id": "f3c4efa6-2afa-4f6e-a1ef-870394b81e5e",
   "metadata": {
    "deletable": false,
    "editable": false,
    "nbgrader": {
     "cell_type": "code",
     "checksum": "bcb8a2dbb12293b99aa34866c0b7d4ba",
     "grade": true,
     "grade_id": "cell-4f42e67e2ecdabac",
     "locked": true,
     "points": 10,
     "schema_version": 3,
     "solution": false,
     "task": false
    },
    "tags": []
   },
   "outputs": [
    {
     "data": {
      "text/plain": [
       "<__main__.BinaryTree at 0x7fc3f41af700>"
      ]
     },
     "execution_count": 35,
     "metadata": {},
     "output_type": "execute_result"
    }
   ],
   "source": [
    "tree1 = BinaryTree()\n",
    "codebook1 = [{\"symbol\": \"a\", \"code\": \"01\"},\n",
    "             {\"symbol\": \"b\", \"code\": \"00\"}]\n",
    "tree1.buildTree(codebook1)\n"
   ]
  },
  {
   "cell_type": "code",
   "execution_count": 40,
   "id": "fa6a35b4-8c53-42ab-ba5f-274978bec757",
   "metadata": {
    "deletable": false,
    "editable": false,
    "nbgrader": {
     "cell_type": "code",
     "checksum": "2cc5df222e27e47f787d2441fac629b5",
     "grade": true,
     "grade_id": "cell-66a53be25d51d67a",
     "locked": true,
     "points": 10,
     "schema_version": 3,
     "solution": false,
     "task": false
    },
    "tags": []
   },
   "outputs": [
    {
     "data": {
      "text/plain": [
       "<__main__.BinaryTree at 0x7fc3f41af520>"
      ]
     },
     "execution_count": 40,
     "metadata": {},
     "output_type": "execute_result"
    }
   ],
   "source": [
    "tree2 = BinaryTree()\n",
    "codebook2 = [{\"symbol\": \"a\", \"code\": \"011\"}, \n",
    "             {\"symbol\": \"b\", \"code\": \"010\"}, \n",
    "             {\"symbol\": \"c\", \"code\": \"110\"}, \n",
    "             {\"symbol\": \"d\", \"code\": \"111\"}]\n",
    "tree2.buildTree(codebook2)\n"
   ]
  },
  {
   "cell_type": "code",
   "execution_count": 42,
   "id": "0edf6bab-f48b-4fc4-af7c-561eecba4f19",
   "metadata": {
    "deletable": false,
    "editable": false,
    "nbgrader": {
     "cell_type": "code",
     "checksum": "e34d21c75c201af65fbaacf883569dad",
     "grade": true,
     "grade_id": "cell-5cca913bcd6d00ab",
     "locked": true,
     "points": 10,
     "schema_version": 3,
     "solution": false,
     "task": false
    },
    "tags": []
   },
   "outputs": [
    {
     "data": {
      "text/plain": [
       "<__main__.BinaryTree at 0x7fc3f40fd040>"
      ]
     },
     "execution_count": 42,
     "metadata": {},
     "output_type": "execute_result"
    }
   ],
   "source": [
    "tree3 = BinaryTree()\n",
    "codebook3 = [{\"symbol\": \"a\", \"code\": \"00\"}, \n",
    "             {\"symbol\": \"b\", \"code\": \"010\"},\n",
    "             {\"symbol\": \"c\", \"code\": \"1100\"},\n",
    "             {\"symbol\": \"d\", \"code\": \"11100\"},\n",
    "             {\"symbol\": \"e\", \"code\": \"11101\"},\n",
    "             {\"symbol\": \"f\", \"code\": \"11110\"}]\n",
    "tree3.buildTree(codebook3)\n"
   ]
  }
 ],
 "metadata": {
  "kernelspec": {
   "display_name": "Python 3 (ipykernel)",
   "language": "python",
   "name": "python3"
  },
  "language_info": {
   "codemirror_mode": {
    "name": "ipython",
    "version": 3
   },
   "file_extension": ".py",
   "mimetype": "text/x-python",
   "name": "python",
   "nbconvert_exporter": "python",
   "pygments_lexer": "ipython3",
   "version": "3.9.7"
  }
 },
 "nbformat": 4,
 "nbformat_minor": 5
}
