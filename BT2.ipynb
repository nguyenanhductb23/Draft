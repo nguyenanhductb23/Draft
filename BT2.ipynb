{
 "cells": [
  {
   "cell_type": "markdown",
   "id": "4423a58f-1978-42cb-b443-f225d0698077",
   "metadata": {
    "deletable": false,
    "editable": false,
    "nbgrader": {
     "cell_type": "markdown",
     "checksum": "2fa1af162434de7ce903ab689b547452",
     "grade": false,
     "grade_id": "cell-5cbb3adfc2c77236",
     "locked": true,
     "points": 5,
     "schema_version": 3,
     "solution": false,
     "task": true
    },
    "tags": []
   },
   "source": [
    "# Yêu cầu\n",
    "\n",
    "Hay viết file này thành một notebook (có các cell mô tả - Markdown, và các cell Code - Python) để mô tả và tóm tắt lại các nội dung sau:\n",
    "- Tính Lượng tin của một symbol\n",
    "- Tính Entropy của một nguồn thông tin (một alphabet)\n",
    "- Tính correlation của hai tập mẫu đầu vào"
   ]
  },
  {
   "cell_type": "markdown",
   "id": "877d6d01-dab5-488b-bc5d-6d31059b6308",
   "metadata": {
    "tags": []
   },
   "source": [
    "# 1. Tính lượng tin của một symbol"
   ]
  },
  {
   "cell_type": "markdown",
   "id": "908a4ba9-103d-4948-8f67-ac2a1a9deee1",
   "metadata": {},
   "source": [
    "Lượng tin của một symbol được tính theo công thức:\n",
    "\n",
    "$$ I(x) =−log(p(x)) $$"
   ]
  },
  {
   "cell_type": "code",
   "execution_count": 3,
   "id": "f05f9780-4b2f-4401-93c2-de6475188cc3",
   "metadata": {},
   "outputs": [],
   "source": [
    "import numpy as np\n",
    "\n",
    "def information(x):\n",
    "    return np.log2(1/x)"
   ]
  },
  {
   "cell_type": "markdown",
   "id": "5beb4989-11af-404d-8099-ef97c0e192fd",
   "metadata": {},
   "source": [
    "**Test**"
   ]
  },
  {
   "cell_type": "code",
   "execution_count": 4,
   "id": "5ab2f43f-028f-4b4b-b74c-b05bba181662",
   "metadata": {},
   "outputs": [
    {
     "data": {
      "text/plain": [
       "2.0"
      ]
     },
     "execution_count": 4,
     "metadata": {},
     "output_type": "execute_result"
    }
   ],
   "source": [
    "information(0.25)"
   ]
  },
  {
   "cell_type": "markdown",
   "id": "5335f9a8-6040-4519-ab5c-29f6f887c2ab",
   "metadata": {},
   "source": [
    "# 2. Tính Entropy của một nguồn thông tin (một alphabet)"
   ]
  },
  {
   "cell_type": "markdown",
   "id": "aa22e45d-0e97-4af0-8bc7-b24c5f21f6a4",
   "metadata": {},
   "source": [
    "Entropy của một nguồn thông tin (một alphabet) được tính theo công thức:\n",
    "\n",
    "$$ H(X) = −\\sum_{x \\in X} p(x)log(p(x)) $$"
   ]
  },
  {
   "cell_type": "code",
   "execution_count": 5,
   "id": "ff0e5f92-eb2c-480b-8696-194aaaeef6c6",
   "metadata": {},
   "outputs": [],
   "source": [
    "def entropy(x):\n",
    "    h = 0\n",
    "    for i in x:\n",
    "        h -= i * np.log2(i)\n",
    "    return h"
   ]
  },
  {
   "cell_type": "markdown",
   "id": "6bbacb08-f6a2-4041-b21d-723469763b40",
   "metadata": {},
   "source": [
    "**Test**"
   ]
  },
  {
   "cell_type": "code",
   "execution_count": 6,
   "id": "d6bff125-9c99-4601-be9d-61b4495b2bba",
   "metadata": {},
   "outputs": [
    {
     "data": {
      "text/plain": [
       "2.0"
      ]
     },
     "execution_count": 6,
     "metadata": {},
     "output_type": "execute_result"
    }
   ],
   "source": [
    "entropy(np.array([0.25,0.25,0.25,0.25]))"
   ]
  },
  {
   "cell_type": "markdown",
   "id": "161a224c-9524-4dce-b3a8-b1fe84fa0f36",
   "metadata": {},
   "source": [
    "# 3. Tính correlation của hai tập mẫu đầu vào"
   ]
  },
  {
   "cell_type": "markdown",
   "id": "13162ab5-46f8-4954-b1bd-cbfa85245179",
   "metadata": {},
   "source": [
    "Correlation của hai tập mẫu được tính theo công thức:\n",
    "    $$ r_{X,Y} = \\frac{\\sum_{i=1}^{N}(x_i-\\bar{x})(y_i-\\bar{y})}{\\sqrt{\\sum_{i=1}^{N}{(x_i-\\bar{x})}^2}\\sqrt{\\sum_{i=1}^{N}{(y_i-\\bar{y})}^2}} $$"
   ]
  },
  {
   "cell_type": "code",
   "execution_count": 45,
   "id": "d1f612b6-ebe3-41e6-9b62-34a0ed1d8c48",
   "metadata": {},
   "outputs": [],
   "source": [
    "def correlation(x, y):\n",
    "    if len(x) != len(y):\n",
    "        raise ValueError('Not equal length')\n",
    "    x_mean = np.mean(x)\n",
    "    y_mean = np.mean(y)\n",
    "    sum_x, sum_y, sum_xy = 0, 0, 0\n",
    "    for i in range(len(x)):\n",
    "        sum_xy += (x[i] - x_mean) * (y[i] - y_mean)\n",
    "        sum_x += (x[i] - x_mean) ** 2\n",
    "        sum_y += (y[i] - y_mean) ** 2\n",
    "    if sum_x == 0 or sum_y == 0:\n",
    "        return np.nan\n",
    "    return sum_xy / np.sqrt(sum_x * sum_y)"
   ]
  },
  {
   "cell_type": "code",
   "execution_count": 48,
   "id": "91d83bf5-c6d4-432f-bdad-3e0c471931ea",
   "metadata": {},
   "outputs": [
    {
     "data": {
      "text/plain": [
       "0.7975978051293748"
      ]
     },
     "execution_count": 48,
     "metadata": {},
     "output_type": "execute_result"
    }
   ],
   "source": [
    "correlation([0.5,0.3,0.7,0.6],[1,0.57,1.45,2])"
   ]
  },
  {
   "cell_type": "code",
   "execution_count": 47,
   "id": "502ecc93-7e4b-468e-b135-89657d67a567",
   "metadata": {},
   "outputs": [
    {
     "data": {
      "text/plain": [
       "nan"
      ]
     },
     "execution_count": 47,
     "metadata": {},
     "output_type": "execute_result"
    }
   ],
   "source": [
    "correlation([1,1,1],[3,2,3])"
   ]
  },
  {
   "cell_type": "markdown",
   "id": "6f2d1c36-ea9a-4f65-a26a-3067310eb92d",
   "metadata": {},
   "source": [
    "# 4. Tính entropy của Geometric information source"
   ]
  },
  {
   "cell_type": "markdown",
   "id": "d95f37cd-f6a7-48f4-8a51-e209d396e2ce",
   "metadata": {},
   "source": [
    "Entropy của Geometric information source được tính bởi công thức:\n",
    "    $$ H(X_{geom}) = \\sum_{k=1}^{\\infty}{\\frac{k}{2^k}} $$"
   ]
  },
  {
   "cell_type": "code",
   "execution_count": 73,
   "id": "1f5267d7-3e62-4178-b3b1-a95c30eac91c",
   "metadata": {},
   "outputs": [],
   "source": [
    "import math\n",
    "\n",
    "def geom_entropy():\n",
    "    sum, add, k = 0, 0.5, 1\n",
    "    epsilon = math.pow(10, -20)\n",
    "    while add > epsilon:\n",
    "        sum += add\n",
    "        k += 1\n",
    "        add = k / math.pow(2,k)\n",
    "    return sum"
   ]
  },
  {
   "cell_type": "code",
   "execution_count": 74,
   "id": "4ab9a6a2-116c-46f9-8a8f-518672c30555",
   "metadata": {},
   "outputs": [
    {
     "data": {
      "text/plain": [
       "1.9999999999999998"
      ]
     },
     "execution_count": 74,
     "metadata": {},
     "output_type": "execute_result"
    }
   ],
   "source": [
    "geom_entropy()"
   ]
  }
 ],
 "metadata": {
  "kernelspec": {
   "display_name": "Python 3 (ipykernel)",
   "language": "python",
   "name": "python3"
  },
  "language_info": {
   "codemirror_mode": {
    "name": "ipython",
    "version": 3
   },
   "file_extension": ".py",
   "mimetype": "text/x-python",
   "name": "python",
   "nbconvert_exporter": "python",
   "pygments_lexer": "ipython3",
   "version": "3.9.7"
  }
 },
 "nbformat": 4,
 "nbformat_minor": 5
}
