{
 "cells": [
  {
   "cell_type": "markdown",
   "id": "bb277b06-c25c-414e-887c-3b9ae0cae614",
   "metadata": {},
   "source": [
    "# Câu 1: Thực hiện hàm tính mean"
   ]
  },
  {
   "cell_type": "code",
   "execution_count": 1,
   "id": "9d2e5d81-9d1d-4b77-9a1e-4e4ed77d1977",
   "metadata": {},
   "outputs": [],
   "source": [
    "import numpy as np"
   ]
  },
  {
   "cell_type": "code",
   "execution_count": 4,
   "id": "17123540-0ee3-46b9-8c8a-93ad6467412b",
   "metadata": {
    "deletable": false,
    "nbgrader": {
     "cell_type": "code",
     "checksum": "4579c736e83d65e7a522ec185bf82f2a",
     "grade": false,
     "grade_id": "cell-660fd5f79997924f",
     "locked": false,
     "schema_version": 3,
     "solution": true,
     "task": false
    },
    "tags": []
   },
   "outputs": [],
   "source": [
    "def calcMean(x):\n",
    "    '''x is a list or numpy array'''\n",
    "    total = 0\n",
    "    for i in x:\n",
    "        total += i\n",
    "    return total / len(x)\n",
    "    raise NotImplementedError()\n",
    "x = np.array([1,2,3,4.5,6.7])"
   ]
  },
  {
   "cell_type": "code",
   "execution_count": null,
   "id": "f2248609-3fec-4c7f-b232-8a5a4cb6d890",
   "metadata": {
    "deletable": false,
    "editable": false,
    "nbgrader": {
     "cell_type": "code",
     "checksum": "574d7e664ae4b7e194fa31914f23bc83",
     "grade": true,
     "grade_id": "cell-377f657c9a67da73",
     "locked": true,
     "points": 1,
     "schema_version": 3,
     "solution": false,
     "task": false
    },
    "tags": []
   },
   "outputs": [],
   "source": []
  },
  {
   "cell_type": "code",
   "execution_count": 7,
   "id": "8d1ca80c-048e-46b2-a920-1c1b03f4b96d",
   "metadata": {
    "deletable": false,
    "nbgrader": {
     "cell_type": "code",
     "checksum": "8830c312ac7769a1ae0d2e51ae205cc4",
     "grade": false,
     "grade_id": "cell-88418385493bdda6",
     "locked": false,
     "schema_version": 3,
     "solution": true,
     "task": false
    },
    "tags": []
   },
   "outputs": [
    {
     "name": "stdout",
     "output_type": "stream",
     "text": [
      "3.8547859862773186\n"
     ]
    },
    {
     "data": {
      "text/plain": [
       "3.8547859862773186"
      ]
     },
     "execution_count": 7,
     "metadata": {},
     "output_type": "execute_result"
    }
   ],
   "source": [
    "def calcStdDev(x):\n",
    "    '''x is a list or numpy array'''\n",
    "    total = 0\n",
    "    total_sq = 0\n",
    "    for i in x:\n",
    "        total += i\n",
    "        total_sq += i*i\n",
    "    mean = total / len(x)\n",
    "    return np.sqrt(total_sq / len(x) - mean ** 2)\n",
    "    \n",
    "    # YOUR CODE HERE\n",
    "    raise NotImplementedError()\n",
    "calcStdDev([1, 2, 3, 2, 3, 4, 1, -9])"
   ]
  },
  {
   "cell_type": "code",
   "execution_count": null,
   "id": "d14466a4-b2e6-4f48-8eab-9ffabb9713df",
   "metadata": {
    "deletable": false,
    "editable": false,
    "nbgrader": {
     "cell_type": "code",
     "checksum": "bd42f96a4e51ab235711cfa0909a8226",
     "grade": true,
     "grade_id": "cell-30f5e6cc5d964528",
     "locked": true,
     "points": 1,
     "schema_version": 3,
     "solution": false,
     "task": false
    },
    "tags": []
   },
   "outputs": [],
   "source": []
  }
 ],
 "metadata": {
  "kernelspec": {
   "display_name": "Python 3 (ipykernel)",
   "language": "python",
   "name": "python3"
  },
  "language_info": {
   "codemirror_mode": {
    "name": "ipython",
    "version": 3
   },
   "file_extension": ".py",
   "mimetype": "text/x-python",
   "name": "python",
   "nbconvert_exporter": "python",
   "pygments_lexer": "ipython3",
   "version": "3.9.7"
  }
 },
 "nbformat": 4,
 "nbformat_minor": 5
}
