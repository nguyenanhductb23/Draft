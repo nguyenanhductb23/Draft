{
 "cells": [
  {
   "cell_type": "code",
   "execution_count": 1,
   "id": "478e4d81-112e-4350-8632-682901b06a22",
   "metadata": {},
   "outputs": [],
   "source": [
    "class BinaryTreeNode:\n",
    "    def __init__(self, symbol=None):\n",
    "        self.symbol = symbol\n",
    "        self.left = None\n",
    "        self.right = None"
   ]
  },
  {
   "cell_type": "code",
   "execution_count": 2,
   "id": "c7bf7b80-238b-445e-b184-f69d8f4163cf",
   "metadata": {},
   "outputs": [],
   "source": [
    "class BinaryTree:\n",
    "    def __init__(self):\n",
    "        self.root = BinaryTreeNode()\n",
    "        \n",
    "    def dumpTree(self, symbol, codeword):\n",
    "        tmp = self.root\n",
    "        l = len(codeword)\n",
    "        for i in range(l):\n",
    "            if codeword[i] == '1':\n",
    "                if tmp.right:\n",
    "                    tmp = tmp.right\n",
    "                elif i == l-1:\n",
    "                    tmp.right = BinaryTreeNode(symbol)\n",
    "                else:\n",
    "                    tmp.right = BinaryTreeNode()\n",
    "                    tmp = tmp.right\n",
    "            elif codeword[i] == '0':\n",
    "                if tmp.left:\n",
    "                    tmp = tmp.left\n",
    "                elif i == l-1:\n",
    "                    tmp.left = BinaryTreeNode(symbol)\n",
    "                else:\n",
    "                    tmp.left = BinaryTreeNode()\n",
    "                    tmp = tmp.left\n",
    "            else:\n",
    "                raise ValueError('Not a codeword')\n",
    "        \n",
    "    def buildTree(self, dic):\n",
    "        for i in dic:\n",
    "            for t in dic[i]:\n",
    "                if t != '0' and t != '1':\n",
    "                    raise ValueError('Not prefix code')\n",
    "            for j in dic:\n",
    "                if i != j and (dic[i].startswith(dic[j])\n",
    "                               or dic[j].startswith(dic[i])):\n",
    "                    raise ValueError('Not prefix code')\n",
    "        for i in dic:\n",
    "            self.dumpTree(i, dic[i])\n",
    "        \n",
    "    def decode(self, codeword):\n",
    "        tmp_node = self.root\n",
    "        solution = ''\n",
    "        for i in codeword:\n",
    "            if tmp_node:\n",
    "                if i == '1':\n",
    "                    tmp_node = tmp_node.right\n",
    "                elif i == '0':\n",
    "                    tmp_node = tmp_node.left\n",
    "                else:\n",
    "                    raise ValueError('Not a codeword')\n",
    "                if tmp_node.symbol:\n",
    "                    solution += tmp_node.symbol\n",
    "                    tmp_node = self.root\n",
    "        return solution\n"
   ]
  },
  {
   "cell_type": "code",
   "execution_count": 5,
   "id": "1517323f-8118-48ef-9330-509598e65cbe",
   "metadata": {},
   "outputs": [
    {
     "name": "stdout",
     "output_type": "stream",
     "text": [
      "ACDEEDCBAA\n"
     ]
    }
   ],
   "source": [
    "code = {'A': '00', 'B': '01', 'C': '10', 'D': '110', 'E': '111'}\n",
    "\n",
    "tree = BinaryTree()\n",
    "tree.buildTree(code)\n",
    "print(tree.decode('001011011111111010010000'))\n"
   ]
  },
  {
   "cell_type": "code",
   "execution_count": null,
   "id": "32961f0e-142e-4ee9-b34f-b48468883d23",
   "metadata": {},
   "outputs": [],
   "source": []
  }
 ],
 "metadata": {
  "kernelspec": {
   "display_name": "Python 3 (ipykernel)",
   "language": "python",
   "name": "python3"
  },
  "language_info": {
   "codemirror_mode": {
    "name": "ipython",
    "version": 3
   },
   "file_extension": ".py",
   "mimetype": "text/x-python",
   "name": "python",
   "nbconvert_exporter": "python",
   "pygments_lexer": "ipython3",
   "version": "3.9.7"
  }
 },
 "nbformat": 4,
 "nbformat_minor": 5
}
