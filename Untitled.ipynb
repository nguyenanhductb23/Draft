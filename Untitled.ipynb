{
 "cells": [
  {
   "cell_type": "markdown",
   "id": "5fd39792-6dbe-4544-9e37-f666b3729566",
   "metadata": {},
   "source": [
    "upload ảnh lên đâu đó => curl để download ảnh về đây"
   ]
  },
  {
   "cell_type": "markdown",
   "id": "59c6d114-1e8c-4ada-980e-53ebaa33f045",
   "metadata": {},
   "source": [
    "Rate trong slide quantization:\n",
    " Tương tự bit rate"
   ]
  },
  {
   "cell_type": "markdown",
   "id": "ee5cf489-8d7e-4c90-9b03-6faac97a2f7b",
   "metadata": {},
   "source": [
    "Lloyd-Max quantization => K-Means"
   ]
  },
  {
   "cell_type": "code",
   "execution_count": null,
   "id": "8c93986e-09ee-43e9-9f55-d3c79c52b121",
   "metadata": {},
   "outputs": [],
   "source": []
  }
 ],
 "metadata": {
  "kernelspec": {
   "display_name": "Python 3 (ipykernel)",
   "language": "python",
   "name": "python3"
  },
  "language_info": {
   "codemirror_mode": {
    "name": "ipython",
    "version": 3
   },
   "file_extension": ".py",
   "mimetype": "text/x-python",
   "name": "python",
   "nbconvert_exporter": "python",
   "pygments_lexer": "ipython3",
   "version": "3.9.7"
  }
 },
 "nbformat": 4,
 "nbformat_minor": 5
}
